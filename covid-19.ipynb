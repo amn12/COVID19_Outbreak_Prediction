{
  "nbformat": 4,
  "nbformat_minor": 0,
  "metadata": {
    "kernelspec": {
      "display_name": "Python 3",
      "language": "python",
      "name": "python3"
    },
    "language_info": {
      "codemirror_mode": {
        "name": "ipython",
        "version": 3
      },
      "file_extension": ".py",
      "mimetype": "text/x-python",
      "name": "python",
      "nbconvert_exporter": "python",
      "pygments_lexer": "ipython3",
      "version": "3.8.0"
    },
    "colab": {
      "name": "covid-19.ipynb",
      "provenance": []
    }
  },
  "cells": [
    {
      "cell_type": "code",
      "metadata": {
        "id": "VSLMsN4HemLp"
      },
      "source": [
        "import pandas as pd"
      ],
      "execution_count": null,
      "outputs": []
    },
    {
      "cell_type": "code",
      "metadata": {
        "id": "LnwUXkK_emL1"
      },
      "source": [
        "covid = pd.read_csv('covid.csv')"
      ],
      "execution_count": null,
      "outputs": []
    },
    {
      "cell_type": "code",
      "metadata": {
        "id": "2NqZKa8remL3"
      },
      "source": [
        "#Having a glance at some of the records\n",
        "covid.head()"
      ],
      "execution_count": null,
      "outputs": []
    },
    {
      "cell_type": "code",
      "metadata": {
        "id": "Ome96c2yemL7"
      },
      "source": [
        "#Looking at the shape\n",
        "covid.shape"
      ],
      "execution_count": null,
      "outputs": []
    },
    {
      "cell_type": "code",
      "metadata": {
        "id": "e3-WP4msemL9"
      },
      "source": [
        "covid.columns"
      ],
      "execution_count": null,
      "outputs": []
    },
    {
      "cell_type": "code",
      "metadata": {
        "id": "QIDpn3L3emL_"
      },
      "source": [
        "#Looking at the different locations\n",
        "covid[\"location\"].value_counts()"
      ],
      "execution_count": null,
      "outputs": []
    },
    {
      "cell_type": "code",
      "metadata": {
        "id": "U1LiuylgemMB"
      },
      "source": [
        "#Checking if columns have null values\n",
        "covid.isna().any()"
      ],
      "execution_count": null,
      "outputs": []
    },
    {
      "cell_type": "code",
      "metadata": {
        "id": "REn9lurkemMC"
      },
      "source": [
        "#Getting the sum of null values across each column\n",
        "covid.isna().sum()"
      ],
      "execution_count": null,
      "outputs": []
    },
    {
      "cell_type": "code",
      "metadata": {
        "id": "HGZ9c56-emME"
      },
      "source": [
        "#Getting the cases in India\n",
        "india_case=covid[covid[\"location\"]==\"India\"] "
      ],
      "execution_count": null,
      "outputs": []
    },
    {
      "cell_type": "code",
      "metadata": {
        "id": "OUC83Y_EemMF"
      },
      "source": [
        "india_case.head()"
      ],
      "execution_count": null,
      "outputs": []
    },
    {
      "cell_type": "code",
      "metadata": {
        "id": "e2VXdoV5emMI"
      },
      "source": [
        "india_case.tail()"
      ],
      "execution_count": null,
      "outputs": []
    },
    {
      "cell_type": "code",
      "metadata": {
        "id": "gZZmXNC1emMJ"
      },
      "source": [
        "import seaborn as sns\n",
        "from matplotlib import pyplot as plt"
      ],
      "execution_count": null,
      "outputs": []
    },
    {
      "cell_type": "code",
      "metadata": {
        "id": "oF8uyGd5emMK"
      },
      "source": [
        "#Total cases per day\n",
        "sns.set(rc={'figure.figsize':(15,10)})\n",
        "sns.lineplot(x=\"date\",y=\"total_cases\",data=india_case)\n",
        "plt.show()"
      ],
      "execution_count": null,
      "outputs": []
    },
    {
      "cell_type": "code",
      "metadata": {
        "id": "Do09DdRremMM"
      },
      "source": [
        "#Making a dataframe for last 5 days\n",
        "india_last_5_days=india_case.tail()"
      ],
      "execution_count": null,
      "outputs": []
    },
    {
      "cell_type": "code",
      "metadata": {
        "id": "QBOk_8jHemMO"
      },
      "source": [
        "#Total cases in last 5 days\n",
        "sns.set(rc={'figure.figsize':(3,3)})\n",
        "sns.lineplot(x=\"date\",y=\"total_cases\",data=india_last_5_days)\n",
        "plt.show()"
      ],
      "execution_count": null,
      "outputs": []
    },
    {
      "cell_type": "code",
      "metadata": {
        "id": "hCu30ObKemMP"
      },
      "source": [
        "#Total tests per day\n",
        "sns.set(rc={'figure.figsize':(15,10)})\n",
        "sns.lineplot(x=\"date\",y=\"total_tests\",data=india_case)\n",
        "plt.show()"
      ],
      "execution_count": null,
      "outputs": []
    },
    {
      "cell_type": "code",
      "metadata": {
        "id": "z96kS-CeemMR"
      },
      "source": [
        "#Total tests in last 5 days\n",
        "sns.set(rc={'figure.figsize':(15,10)})\n",
        "sns.lineplot(x=\"date\",y=\"total_tests\",data=india_last_5_days)\n",
        "plt.show()"
      ],
      "execution_count": null,
      "outputs": []
    },
    {
      "cell_type": "code",
      "metadata": {
        "id": "lu1xxiNDemMS"
      },
      "source": [
        "#Brazil Case\n",
        "brazil_case=covid[covid[\"location\"]==\"Brazil\"] \n",
        "brazil_case.head()"
      ],
      "execution_count": null,
      "outputs": []
    },
    {
      "cell_type": "code",
      "metadata": {
        "id": "AqSrUF65emMU"
      },
      "source": [
        "brazil_case.tail()"
      ],
      "execution_count": null,
      "outputs": []
    },
    {
      "cell_type": "code",
      "metadata": {
        "id": "8wCJ2GgwemMW"
      },
      "source": [
        "#Making a dataframe for brazil for last 5 days\n",
        "brazil_last_5_days=brazil_case.tail()"
      ],
      "execution_count": null,
      "outputs": []
    },
    {
      "cell_type": "code",
      "metadata": {
        "id": "Td2gD9HNemMX"
      },
      "source": [
        "#Total cases in last 5 days\n",
        "sns.set(rc={'figure.figsize':(15,10)})\n",
        "sns.lineplot(x=\"date\",y=\"total_cases\",data=brazil_last_5_days)\n",
        "plt.show()"
      ],
      "execution_count": null,
      "outputs": []
    },
    {
      "cell_type": "code",
      "metadata": {
        "id": "qsWKrbazemMY"
      },
      "source": [
        "#Understanding cases of India, China and Japan\n",
        "india_japan_china=covid[(covid[\"location\"] ==\"India\") | (covid[\"location\"] ==\"China\") | (covid[\"location\"]==\"Japan\")]"
      ],
      "execution_count": null,
      "outputs": []
    },
    {
      "cell_type": "code",
      "metadata": {
        "id": "xioyRUtfemMZ"
      },
      "source": [
        "#Plotting growth of cases across China, India and Japan\n",
        "sns.set(rc={'figure.figsize':(15,10)})\n",
        "sns.barplot(x=\"location\",y=\"total_cases\",data=india_japan_china,hue=\"date\")\n",
        "plt.show()"
      ],
      "execution_count": null,
      "outputs": []
    },
    {
      "cell_type": "code",
      "metadata": {
        "id": "3wWx8-4lemMb"
      },
      "source": [
        "#Understanding cases of germany and spain\n",
        "germany_spain=covid[(covid[\"location\"] ==\"Germany\") | (covid[\"location\"] ==\"Spain\")]"
      ],
      "execution_count": null,
      "outputs": []
    },
    {
      "cell_type": "code",
      "metadata": {
        "id": "FbIGZJtqemMc"
      },
      "source": [
        "#Plotting growth of cases across Germany and Spain\n",
        "sns.set(rc={'figure.figsize':(15,10)})\n",
        "sns.barplot(x=\"location\",y=\"total_cases\",data=germany_spain,hue=\"date\")\n",
        "plt.show()"
      ],
      "execution_count": null,
      "outputs": []
    },
    {
      "cell_type": "code",
      "metadata": {
        "id": "z3wr3alYemMd"
      },
      "source": [
        "#Getting latest data\n",
        "last_day_cases=covid[covid[\"date\"]==\"2020-05-24\"]\n",
        "last_day_cases"
      ],
      "execution_count": null,
      "outputs": []
    },
    {
      "cell_type": "code",
      "metadata": {
        "id": "BlA3wSB6emMf"
      },
      "source": [
        "#Sorting data w.r.t total_cases\n",
        "max_cases_country=last_day_cases.sort_values(by=\"total_cases\",ascending=False)\n",
        "max_cases_country"
      ],
      "execution_count": null,
      "outputs": []
    },
    {
      "cell_type": "code",
      "metadata": {
        "id": "nJta8JZVemMh"
      },
      "source": [
        "#Top 5 countries with maximum cases\n",
        "max_cases_country[1:6]"
      ],
      "execution_count": null,
      "outputs": []
    },
    {
      "cell_type": "code",
      "metadata": {
        "id": "ix-PY4eRemMi"
      },
      "source": [
        "#Making bar-plot for countries with top cases\n",
        "sns.barplot(x=\"location\",y=\"total_cases\",data=max_cases_country[1:6],hue=\"location\")\n",
        "plt.show()"
      ],
      "execution_count": null,
      "outputs": []
    },
    {
      "cell_type": "code",
      "metadata": {
        "id": "i-wUocsGemMk"
      },
      "source": [
        "india_case.head()"
      ],
      "execution_count": null,
      "outputs": []
    },
    {
      "cell_type": "code",
      "metadata": {
        "id": "O-tDYPvmemMl"
      },
      "source": [
        "#Linear regression\n",
        "from sklearn.model_selection import train_test_split"
      ],
      "execution_count": null,
      "outputs": []
    },
    {
      "cell_type": "code",
      "metadata": {
        "id": "4H2qy18IemMn"
      },
      "source": [
        "#converting string date to date-time\n",
        "import datetime as dt\n",
        "india_case['date'] = pd.to_datetime(india_case['date']) \n",
        "india_case.head()"
      ],
      "execution_count": null,
      "outputs": []
    },
    {
      "cell_type": "code",
      "metadata": {
        "id": "pTgOkQahemMp"
      },
      "source": [
        "india_case.head()"
      ],
      "execution_count": null,
      "outputs": []
    },
    {
      "cell_type": "code",
      "metadata": {
        "id": "s8xlMsdIemMq"
      },
      "source": [
        "#converting date-time to ordinal\n",
        "india_case['date']=india_case['date'].map(dt.datetime.toordinal)\n",
        "india_case.head()"
      ],
      "execution_count": null,
      "outputs": []
    },
    {
      "cell_type": "code",
      "metadata": {
        "id": "HFPbGLpwemMr"
      },
      "source": [
        "#getting dependent variable and inpedent variable\n",
        "x=india_case['date']\n",
        "y=india_case['total_cases']"
      ],
      "execution_count": null,
      "outputs": []
    },
    {
      "cell_type": "code",
      "metadata": {
        "id": "JJvZAH2nemMs"
      },
      "source": [
        "x_train,x_test,y_train,y_test=train_test_split(x,y,test_size=0.3)"
      ],
      "execution_count": null,
      "outputs": []
    },
    {
      "cell_type": "code",
      "metadata": {
        "id": "QhNgr8aiemMt"
      },
      "source": [
        "from sklearn.linear_model import LinearRegression"
      ],
      "execution_count": null,
      "outputs": []
    },
    {
      "cell_type": "code",
      "metadata": {
        "id": "ZYcD-rGhemMu"
      },
      "source": [
        "lr = LinearRegression()"
      ],
      "execution_count": null,
      "outputs": []
    },
    {
      "cell_type": "code",
      "metadata": {
        "id": "veutor9XemMv"
      },
      "source": [
        "import numpy as np\n",
        "lr.fit(np.array(x_train).reshape(-1,1),np.array(y_train).reshape(-1,1))"
      ],
      "execution_count": null,
      "outputs": []
    },
    {
      "cell_type": "code",
      "metadata": {
        "id": "AtifyKbJemMx"
      },
      "source": [
        "india_case.tail()"
      ],
      "execution_count": null,
      "outputs": []
    },
    {
      "cell_type": "code",
      "metadata": {
        "id": "9zU7Fi8UemMy"
      },
      "source": [
        "y_pred=lr.predict(np.array(x_test).reshape(-1,1))"
      ],
      "execution_count": null,
      "outputs": []
    },
    {
      "cell_type": "code",
      "metadata": {
        "id": "61XIIi2temMz"
      },
      "source": [
        "from sklearn.metrics import mean_squared_error"
      ],
      "execution_count": null,
      "outputs": []
    },
    {
      "cell_type": "code",
      "metadata": {
        "id": "mi9oCLOZemM0"
      },
      "source": [
        "mean_squared_error(x_test,y_pred)"
      ],
      "execution_count": null,
      "outputs": []
    },
    {
      "cell_type": "code",
      "metadata": {
        "id": "V6G2Nf3qemM1"
      },
      "source": [
        "lr.predict(np.array([[737573]]))"
      ],
      "execution_count": null,
      "outputs": []
    },
    {
      "cell_type": "code",
      "metadata": {
        "id": "wdx3qAgDemM3"
      },
      "source": [
        ""
      ],
      "execution_count": null,
      "outputs": []
    }
  ]
}
